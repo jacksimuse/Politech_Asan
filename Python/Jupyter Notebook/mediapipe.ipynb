import cv2  # OpenCV 라이브러리 임포트 (컴퓨터 비전 처리용)
import mediapipe as mp  # MediaPipe 라이브러리 임포트 (손 추적 등 ML 솔루션)

mp_hands = mp.solutions.hands  # MediaPipe의 손 추적 모듈 불러오기
mp_drawing = mp.solutions.drawing_utils  # MediaPipe의 랜드마크 그리기 유틸리티 불러오기

# Hands 객체 생성: 손 인식 및 추적을 위한 객체
# max_num_hands: 인식할 최대 손 개수 (여기선 1개)
# min_detection_confidence: 손 감지의 최소 신뢰도 (0.0~1.0, 높을수록 더 확실할 때만 인식)
hands = mp_hands.Hands(max_num_hands=1, min_detection_confidence=0.7)

cap = cv2.VideoCapture(0)  # 웹캠(기본 카메라, 인덱스 0)에서 영상 캡처 시작

while cap.isOpened():  # 카메라가 정상적으로 열려있는 동안 반복
    ret, frame = cap.read()  # 프레임 읽기 (ret: 성공 여부, frame: 이미지 데이터)
    if not ret:  # 프레임을 못 읽었으면 반복 종료
        break

    # 이미지를 좌우 반전(셀카처럼) 후, BGR에서 RGB로 색상 변환
    image = cv2.cvtColor(cv2.flip(frame, 1), cv2.COLOR_BGR2RGB)
    image.flags.writeable = False  # 성능 향상을 위해 이미지 수정 불가로 설정
    results = hands.process(image)  # 손 랜드마크 추출 (추론)

    image.flags.writeable = True  # 다시 이미지 수정 가능으로 설정
    image = cv2.cvtColor(image, cv2.COLOR_RGB2BGR)  # 다시 BGR로 변환 (OpenCV는 BGR 사용)

    if results.multi_hand_landmarks:  # 손이 감지된 경우
        for hand_landmarks in results.multi_hand_landmarks:  # 감지된 각 손에 대해
            # 손 랜드마크와 연결선을 이미지에 그림
            # hand_landmarks: 손의 21개 랜드마크 좌표
            # mp_hands.HAND_CONNECTIONS: 랜드마크 연결 정보
            mp_drawing.draw_landmarks(image, hand_landmarks, mp_hands.HAND_CONNECTIONS)

    cv2.imshow('Hand Tracking', image)  # 결과 이미지를 윈도우에 표시
    if cv2.waitKey(10) & 0xFF == 27:  # 10ms마다 키 입력 확인, ESC(27) 누르면 종료
        break

cap.release()  # 카메라 자원 해제
cv2.destroyAllWindows()  # 모든 OpenCV 윈도우 닫기

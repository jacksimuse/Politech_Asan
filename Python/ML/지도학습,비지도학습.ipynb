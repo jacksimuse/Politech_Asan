{
 "cells": [
  {
   "cell_type": "markdown",
   "id": "3e11c329-b7ad-4760-b589-2a6408fb095a",
   "metadata": {},
   "source": [
    "# 지도학습, 비지도학습"
   ]
  },
  {
   "cell_type": "code",
   "execution_count": 7,
   "id": "3c33d968-96da-4c03-9444-68c940a10dd0",
   "metadata": {},
   "outputs": [],
   "source": [
    "import pandas as pd\n",
    "import matplotlib.pyplot as plt\n",
    "import matplotlib\n",
    "import seaborn as sns\n",
    "\n",
    "# 한글 폰트 설정\n",
    "matplotlib.rcParams['font.family'] = 'Malgun Gothic'\n",
    "matplotlib.rcParams['axes.unicode_minus'] = False\n",
    "\n",
    "# 데이터 불러오기\n",
    "url = \"https://raw.githubusercontent.com/jbrownlee/Datasets/master/pima-indians-diabetes.data.csv\"\n",
    "cols = ['V1','V2','V3','V4','V5','V6','V7','V8','defect']\n",
    "df = pd.read_csv(url, names=cols)\n"
   ]
  },
  {
   "cell_type": "code",
   "execution_count": 13,
   "id": "2ebac76c-cff5-48c1-a160-547c75c8cf85",
   "metadata": {},
   "outputs": [
    {
     "name": "stdout",
     "output_type": "stream",
     "text": [
      "     V1   V2  V3  V4   V5    V6     V7  V8  defect\n",
      "0     6  148  72  35    0  33.6  0.627  50       1\n",
      "1     1   85  66  29    0  26.6  0.351  31       0\n",
      "2     8  183  64   0    0  23.3  0.672  32       1\n",
      "3     1   89  66  23   94  28.1  0.167  21       0\n",
      "4     0  137  40  35  168  43.1  2.288  33       1\n",
      "..   ..  ...  ..  ..  ...   ...    ...  ..     ...\n",
      "763  10  101  76  48  180  32.9  0.171  63       0\n",
      "764   2  122  70  27    0  36.8  0.340  27       0\n",
      "765   5  121  72  23  112  26.2  0.245  30       0\n",
      "766   1  126  60   0    0  30.1  0.349  47       1\n",
      "767   1   93  70  31    0  30.4  0.315  23       0\n",
      "\n",
      "[768 rows x 9 columns]\n"
     ]
    }
   ],
   "source": [
    "print(df)"
   ]
  },
  {
   "cell_type": "code",
   "execution_count": 9,
   "id": "3e15b77f-3eb8-4f49-bb9d-556bd52e932a",
   "metadata": {},
   "outputs": [
    {
     "name": "stdout",
     "output_type": "stream",
     "text": [
      "[1 0]\n"
     ]
    }
   ],
   "source": [
    "print(df['defect'].unique())\n"
   ]
  },
  {
   "cell_type": "markdown",
   "id": "61154c9d-8128-4715-a9e1-508259a164fa",
   "metadata": {},
   "source": [
    "### 지도학습: 결함 예측용 피처와 라벨 분리\n",
    "\n"
   ]
  },
  {
   "cell_type": "code",
   "execution_count": 18,
   "id": "4192210e-3dc7-4a51-b927-0cc3642c1f98",
   "metadata": {},
   "outputs": [],
   "source": [
    "X = df.drop('defect', axis=1)\n",
    "y = df['defect']\n"
   ]
  },
  {
   "cell_type": "markdown",
   "id": "9153a6a8-210c-43e0-890c-9ee0a015dc1b",
   "metadata": {},
   "source": [
    "### 비지도학습: 전체 데이터 사용 (정답 없이)"
   ]
  },
  {
   "cell_type": "code",
   "execution_count": 23,
   "id": "9ad98fb7-2a12-4fe8-aa0a-64661dba3d97",
   "metadata": {},
   "outputs": [],
   "source": [
    "X_unsupervised = df.drop('defect', axis=1)"
   ]
  },
  {
   "cell_type": "code",
   "execution_count": 25,
   "id": "323ec3d3-6b79-4afc-adbf-b6e8377fe70d",
   "metadata": {},
   "outputs": [
    {
     "data": {
      "image/png": "[encoded data removed]",
      "text/plain": [
       "<Figure size 640x480 with 1 Axes>"
      ]
     },
     "metadata": {},
     "output_type": "display_data"
    }
   ],
   "source": [
    "import seaborn as sns\n",
    "sns.boxplot(x='defect', y='V1', data=df)\n",
    "plt.title(\"결함 여부에 따른 V1 분포 (지도학습 기반 시각화)\")\n",
    "plt.show()\n"
   ]
  },
  {
   "cell_type": "code",
   "execution_count": null,
   "id": "23cd7c9e-d04f-4bec-ad86-cf7b89790033",
   "metadata": {},
   "outputs": [],
   "source": []
  }
 ],
 "metadata": {
  "kernelspec": {
   "display_name": "Python [conda env:base] *",
   "language": "python",
   "name": "conda-base-py"
  },
  "language_info": {
   "codemirror_mode": {
    "name": "ipython",
    "version": 3
   },
   "file_extension": ".py",
   "mimetype": "text/x-python",
   "name": "python",
   "nbconvert_exporter": "python",
   "pygments_lexer": "ipython3",
   "version": "3.12.7"
  }
 },
 "nbformat": 4,
 "nbformat_minor": 5
}
